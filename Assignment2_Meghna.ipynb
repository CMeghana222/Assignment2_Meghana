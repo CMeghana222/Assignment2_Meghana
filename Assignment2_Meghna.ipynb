{
  "nbformat": 4,
  "nbformat_minor": 0,
  "metadata": {
    "colab": {
      "name": "Assignment2_Meghna.ipynb",
      "provenance": []
    },
    "kernelspec": {
      "name": "python3",
      "display_name": "Python 3"
    }
  },
  "cells": [
    {
      "cell_type": "markdown",
      "metadata": {
        "id": "6G2Rf40M1duk",
        "colab_type": "text"
      },
      "source": [
        "# **File Handling**\n",
        "**First method to write a file**"
      ]
    },
    {
      "cell_type": "code",
      "metadata": {
        "id": "M7ItGwUwrDeB",
        "colab_type": "code",
        "outputId": "126fbf57-f63a-45ec-beb7-274b510db347",
        "colab": {
          "base_uri": "https://localhost:8080/",
          "height": 34
        }
      },
      "source": [
        "%%writefile meghana.txt\n",
        "Hey I am creating a new file\n",
        "Trying to write next line\n",
        "Thank you "
      ],
      "execution_count": 0,
      "outputs": [
        {
          "output_type": "stream",
          "text": [
            "Writing meghana.txt\n"
          ],
          "name": "stdout"
        }
      ]
    },
    {
      "cell_type": "markdown",
      "metadata": {
        "id": "fjNJjL2I0XMY",
        "colab_type": "text"
      },
      "source": [
        "**Second method to write a file**"
      ]
    },
    {
      "cell_type": "code",
      "metadata": {
        "id": "Kx6P9JIlybmQ",
        "colab_type": "code",
        "outputId": "55c3ac1c-b1d0-4316-a4b3-b27561efcb9a",
        "colab": {
          "base_uri": "https://localhost:8080/",
          "height": 34
        }
      },
      "source": [
        "f=open(\"megha.txt\",\"w+\")\n",
        "f.writelines(\"Hey I am creating a new file\\n Trying to write next line\\n Thank you\\n\")\n",
        "f.seek(0)\n",
        "f.read()"
      ],
      "execution_count": 0,
      "outputs": [
        {
          "output_type": "execute_result",
          "data": {
            "text/plain": [
              "'Hey I am creating a new file\\n Trying to write next line\\n Thank you\\n'"
            ]
          },
          "metadata": {
            "tags": []
          },
          "execution_count": 19
        }
      ]
    },
    {
      "cell_type": "code",
      "metadata": {
        "id": "oZKTCsKqrbC2",
        "colab_type": "code",
        "outputId": "2392bdaf-8376-4d80-9ad5-5bbb719d11c1",
        "colab": {
          "base_uri": "https://localhost:8080/",
          "height": 34
        }
      },
      "source": [
        "f=open(\"meghana.txt\")\n",
        "f.read()"
      ],
      "execution_count": 0,
      "outputs": [
        {
          "output_type": "execute_result",
          "data": {
            "text/plain": [
              "'Hey I am creating a new file\\nTrying to write next line\\nThank you '"
            ]
          },
          "metadata": {
            "tags": []
          },
          "execution_count": 3
        }
      ]
    },
    {
      "cell_type": "markdown",
      "metadata": {
        "id": "TC8Kp8kQrvZg",
        "colab_type": "text"
      },
      "source": [
        "**Reading text line by line**"
      ]
    },
    {
      "cell_type": "code",
      "metadata": {
        "id": "G-PxsRwMr7PO",
        "colab_type": "code",
        "outputId": "159a008f-6477-4549-ee0b-2963280a6101",
        "colab": {
          "base_uri": "https://localhost:8080/",
          "height": 102
        }
      },
      "source": [
        "f=open(\"meghana.txt\")\n",
        "print(f.readline())\n",
        "print(f.readline())\n",
        "print(f.readline())"
      ],
      "execution_count": 0,
      "outputs": [
        {
          "output_type": "stream",
          "text": [
            "Hey I am creating a new file\n",
            "\n",
            "Trying to write next line\n",
            "\n",
            "Thank you \n"
          ],
          "name": "stdout"
        }
      ]
    },
    {
      "cell_type": "markdown",
      "metadata": {
        "id": "21wakQO5s7xg",
        "colab_type": "text"
      },
      "source": [
        "**Reading text line by line using \"for\"**"
      ]
    },
    {
      "cell_type": "code",
      "metadata": {
        "id": "DWlpxU8wtHin",
        "colab_type": "code",
        "outputId": "405c709a-4a6f-4b57-b08e-9a71f6fdb8a1",
        "colab": {
          "base_uri": "https://localhost:8080/",
          "height": 102
        }
      },
      "source": [
        "f=open(\"meghana.txt\")\n",
        "for a in f:\n",
        "  print(a)"
      ],
      "execution_count": 0,
      "outputs": [
        {
          "output_type": "stream",
          "text": [
            "Hey I am creating a new file\n",
            "\n",
            "Trying to write next line\n",
            "\n",
            "Thank you \n"
          ],
          "name": "stdout"
        }
      ]
    },
    {
      "cell_type": "markdown",
      "metadata": {
        "id": "GpKxBsSutU4G",
        "colab_type": "text"
      },
      "source": [
        "**Adding text to the file using \"append\"**"
      ]
    },
    {
      "cell_type": "code",
      "metadata": {
        "id": "UaagAq5ytk8G",
        "colab_type": "code",
        "outputId": "bedf59e3-f8f1-4c3f-9dbf-86daf707e93f",
        "colab": {
          "base_uri": "https://localhost:8080/",
          "height": 34
        }
      },
      "source": [
        "f=open(\"meghana.txt\",\"a+\")\n",
        "f.write(\"adding one more line\")\n",
        "f.seek(0)\n",
        "f.read()"
      ],
      "execution_count": 0,
      "outputs": [
        {
          "output_type": "execute_result",
          "data": {
            "text/plain": [
              "'Hey I am creating a new file\\nTrying to write next line\\nThank you adding one more lineadding one more line'"
            ]
          },
          "metadata": {
            "tags": []
          },
          "execution_count": 8
        }
      ]
    },
    {
      "cell_type": "code",
      "metadata": {
        "id": "M2LJLnBkt4Dv",
        "colab_type": "code",
        "outputId": "8d71efd2-c1d8-4a41-e146-c961b1a8375e",
        "colab": {
          "base_uri": "https://localhost:8080/",
          "height": 102
        }
      },
      "source": [
        "f=open(\"meghana.txt\",\"a+\")\n",
        "f.write(\"adding one more line\")\n",
        "f.seek(0)\n",
        "for a in f:\n",
        "  print(a) \n",
        " \n",
        "\n",
        "\n"
      ],
      "execution_count": 0,
      "outputs": [
        {
          "output_type": "stream",
          "text": [
            "Hey I am creating a new file\n",
            "\n",
            "Trying to write next line\n",
            "\n",
            "Thank you adding one more lineadding one more lineadding one more lineadding one more lineadding one more lineadding one more lineadding one more line\n"
          ],
          "name": "stdout"
        }
      ]
    },
    {
      "cell_type": "markdown",
      "metadata": {
        "id": "znPMRWQ4Iz2G",
        "colab_type": "text"
      },
      "source": [
        "*#Let's see how to create a new file and deleting it*"
      ]
    },
    {
      "cell_type": "code",
      "metadata": {
        "id": "PqTmoRpf8jEM",
        "colab_type": "code",
        "outputId": "56316ee6-107b-4a10-e9ff-b07efddc0052",
        "colab": {
          "base_uri": "https://localhost:8080/",
          "height": 34
        }
      },
      "source": [
        "f=open(\"newfile.txt\",\"w+\")\n",
        "f.write(\"Hey it is going to delete\")\n",
        "f.seek(0)\n",
        "f.read()"
      ],
      "execution_count": 0,
      "outputs": [
        {
          "output_type": "execute_result",
          "data": {
            "text/plain": [
              "'Hey it is going to delete'"
            ]
          },
          "metadata": {
            "tags": []
          },
          "execution_count": 42
        }
      ]
    },
    {
      "cell_type": "code",
      "metadata": {
        "id": "_0IJsy07F-E9",
        "colab_type": "code",
        "colab": {}
      },
      "source": [
        "import os\n",
        "os.remove(\"newfile.txt\")"
      ],
      "execution_count": 0,
      "outputs": []
    },
    {
      "cell_type": "markdown",
      "metadata": {
        "id": "QNfudWixNKeM",
        "colab_type": "text"
      },
      "source": [
        "# **Exeception Handling**\n",
        "**Value type casting error**"
      ]
    },
    {
      "cell_type": "code",
      "metadata": {
        "id": "W6rhLvHDNhOF",
        "colab_type": "code",
        "colab": {
          "base_uri": "https://localhost:8080/",
          "height": 51
        },
        "outputId": "a6ed2b50-1b3e-4987-9b8f-6d8ec81d3a80"
      },
      "source": [
        "try:\n",
        "    x = int(input(\"Please enter a number: \"))\n",
        "except ValueError as ve:\n",
        "    print(\"Please enter valid number...\",ve)"
      ],
      "execution_count": 45,
      "outputs": [
        {
          "output_type": "stream",
          "text": [
            "Please enter a number: hey\n",
            "Please enter valid number... invalid literal for int() with base 10: 'hey'\n"
          ],
          "name": "stdout"
        }
      ]
    },
    {
      "cell_type": "markdown",
      "metadata": {
        "id": "OQp_e3RaPDM_",
        "colab_type": "text"
      },
      "source": [
        "**Handling Divisible by Zero Error**"
      ]
    },
    {
      "cell_type": "code",
      "metadata": {
        "id": "5iLsTu1_NofG",
        "colab_type": "code",
        "colab": {
          "base_uri": "https://localhost:8080/",
          "height": 85
        },
        "outputId": "409aaec7-49b5-4a81-8b3e-430ab333205b"
      },
      "source": [
        "def divide(x, y):\n",
        "    try:\n",
        "        result = x // y\n",
        "    except ZeroDivisionError as ZE:\n",
        "        print(\"Zero divisible Error and system error is -\", ZE)\n",
        "    else:\n",
        "        print(\"result is\", result)\n",
        "    finally:\n",
        "        print(\"executing finally clause\")\n",
        "        \n",
        "divide(4,2)\n",
        "divide(2,0)"
      ],
      "execution_count": 46,
      "outputs": [
        {
          "output_type": "stream",
          "text": [
            "result is 2\n",
            "executing finally clause\n",
            "Zero divisible Error and system error is - integer division or modulo by zero\n",
            "executing finally clause\n"
          ],
          "name": "stdout"
        }
      ]
    },
    {
      "cell_type": "code",
      "metadata": {
        "id": "Z3DH1Et2PSJ6",
        "colab_type": "code",
        "colab": {
          "base_uri": "https://localhost:8080/",
          "height": 34
        },
        "outputId": "50fb202f-701b-4964-d6a1-e6ffe1a60794"
      },
      "source": [
        "try:\n",
        "  f = open(\"Example.txt\",\"r\")\n",
        "  f.write(\"I want to add this\")\n",
        "except:\n",
        "  print(\"Something went wrong when writing to the file\")\n",
        "finally:\n",
        "  f.close()"
      ],
      "execution_count": 49,
      "outputs": [
        {
          "output_type": "stream",
          "text": [
            "Something went wrong when writing to the file\n"
          ],
          "name": "stdout"
        }
      ]
    },
    {
      "cell_type": "markdown",
      "metadata": {
        "id": "OBqAoxT0Vxq3",
        "colab_type": "text"
      },
      "source": [
        "File can't be readable in write mode"
      ]
    },
    {
      "cell_type": "code",
      "metadata": {
        "id": "N7SLAW4CVAQ3",
        "colab_type": "code",
        "colab": {}
      },
      "source": [
        ""
      ],
      "execution_count": 0,
      "outputs": []
    }
  ]
}